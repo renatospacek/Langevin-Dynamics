{
 "cells": [
  {
   "cell_type": "markdown",
   "metadata": {},
   "source": [
    "I initialize the list with the function below, based on the algorithm on slide 9 of the pdf. "
   ]
  },
  {
   "cell_type": "code",
   "execution_count": null,
   "metadata": {},
   "outputs": [],
   "source": [
    "function initialize_list(X::particle)\n",
    "    dx = zeros(3)\n",
    "    mc = zeros(Int, 3)\n",
    "    head = zeros(Int, Ncel)\n",
    "    list = zeros(Int, nPart)\n",
    "    \n",
    "    for i in 1:nPart\n",
    "        for j in 1:dim\n",
    "            dx[j] = X.q[j,i] + L/2\n",
    "            \n",
    "            if dx[j] < 0\n",
    "                dx[j] += L\n",
    "            elseif dx[j] > L\n",
    "                dx[j] -= L\n",
    "            end\n",
    "            \n",
    "            mc[j] = floor(Int, dx[j]/L*M)\n",
    "            \n",
    "            if mc[j] < 0\n",
    "                mc[j] = 0\n",
    "            elseif mc[j] >= M\n",
    "                mc[j] = M-1\n",
    "            end\n",
    "        end\n",
    "        c = 1 + mc[1] + mc[2]*M + mc[3]*M^2\n",
    "\n",
    "        list[i] = head[c]\n",
    "        head[c] = i\n",
    "    end\n",
    "    \n",
    "    return head, list\n",
    "end"
   ]
  },
  {
   "cell_type": "markdown",
   "metadata": {},
   "source": [
    "The function below decodes the list and computes the force, based on the algorithm from page 10 of the pdf. "
   ]
  },
  {
   "cell_type": "code",
   "execution_count": null,
   "metadata": {},
   "outputs": [],
   "source": [
    "function compute_force(X::particle)\n",
    "    X.f = zeros(dim, nPart)\n",
    "    clear_list()\n",
    "    head, list = initialize_list(X)\n",
    "    mc = zeros(Int, 3)\n",
    "    dx = zeros(3)\n",
    "    ci = zeros(Int, 3)\n",
    "\n",
    "    for i in 1:nPart # Loop over particles\n",
    "        for j in 1:dim \n",
    "            dx[j] = X.q[j,i] + L/2\n",
    "            mc[j] = floor(Int, dx[j]/L*M)\n",
    "        end\n",
    "        \n",
    "        for ci[1] in (mc[1]-1):(mc[1]+1), # Loop over 27 neighboring cells\n",
    "            ci[2] in (mc[2]-1):(mc[2]+1),\n",
    "            ci[3] in (mc[3]-1):(mc[3]+1)\n",
    "\n",
    "            for j in 1:dim\n",
    "                if ci[j] < 0\n",
    "                    ci[j] = 0\n",
    "                elseif ci[j] >= M\n",
    "                    ci[j] = M-1\n",
    "                end\n",
    "            end\n",
    "            c = 1 + ci[1] + ci[2]*M + ci[3]*M^2\n",
    "            j = head[c]\n",
    "\n",
    "            while j != 0\n",
    "                if i < j # Don't count double pairs\n",
    "                    dr = X.q[:,i] - X.q[:,j]\n",
    "                    r = distPBC(dr)\n",
    "                    ff = LJ_force(r) \n",
    "                    X.f[:,i] += ff*r\n",
    "                    X.f[:,j] -= ff*r\n",
    "                    \n",
    "                end\n",
    "                j = list[j]\n",
    "            end\n",
    "        end\n",
    "    end\n",
    "   \n",
    "    return X.f\n",
    "end"
   ]
  }
 ],
 "metadata": {
  "@webio": {
   "lastCommId": "03d17454e7494d5eb5554070db3d03b6",
   "lastKernelId": "39e56a6e-2e7a-4151-b042-82ede4599205"
  },
  "kernelspec": {
   "display_name": "Julia 1.0.2",
   "language": "julia",
   "name": "julia-1.0"
  },
  "language_info": {
   "file_extension": ".jl",
   "mimetype": "application/julia",
   "name": "julia",
   "version": "1.0.2"
  }
 },
 "nbformat": 4,
 "nbformat_minor": 2
}
