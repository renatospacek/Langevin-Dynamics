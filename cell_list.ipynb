{
 "cells": [
  {
   "cell_type": "markdown",
   "metadata": {},
   "source": [
    "I initialize the list with the function below, based on the algorithm on slide 9 of the pdf. "
   ]
  },
  {
   "cell_type": "code",
   "execution_count": null,
   "metadata": {},
   "outputs": [],
   "source": [
    "function initialize_list(X::particle)\n",
    "    dx = zeros(3)\n",
    "    mc = zeros(Int, 3)\n",
    "    head = zeros(Int, nCel)\n",
    "    list = zeros(Int, nPart)\n",
    "    \n",
    "    for i in 1:nPart # Loop over particles \n",
    "        for j in 1:dim # Compute vector cell index\n",
    "            dx[j] = X.q[j,i] + L/2\n",
    "            \n",
    "            if dx[j] < 0 # Apply PBC\n",
    "                dx[j] += L\n",
    "            elseif dx[j] > L\n",
    "                dx[j] -= L\n",
    "            end\n",
    "            \n",
    "            mc[j] = floor(Int, dx[j]/L*M)\n",
    "            \n",
    "            if mc[j] < 0 # Ensure that 0 <= mci <= M-1\n",
    "                mc[j] = 0\n",
    "            elseif mc[j] >= M\n",
    "                mc[j] = M-1\n",
    "            end\n",
    "        end\n",
    "        c = 1 + mc[1] + mc[2]*M + mc[3]*M^2\n",
    "\n",
    "        list[i] = head[c]\n",
    "        head[c] = i\n",
    "    end\n",
    "    \n",
    "    return head, list\n",
    "end"
   ]
  },
  {
   "cell_type": "markdown",
   "metadata": {},
   "source": [
    "The function below decodes the list and computes the force, based on the algorithm from page 10 of the pdf. "
   ]
  },
  {
   "cell_type": "code",
   "execution_count": null,
   "metadata": {},
   "outputs": [],
   "source": [
    "function compute_force(X::particle)\n",
    "    X.f = zeros(dim, nPart)\n",
    "    clear_list()\n",
    "    head, list = initialize_list(X)\n",
    "    mc = zeros(Int, 3)\n",
    "    dx = zeros(3)\n",
    "    mci = zeros(Int, 3)\n",
    "\n",
    "    for i in 1:nPart # (loop 1) Loop over particles \n",
    "        for j in 1:dim\n",
    "            dx[j] = X.q[j,i] + L/2\n",
    "            \n",
    "            if dx[j] < 0\n",
    "                dx[j] += L\n",
    "            elseif dx[j] > L\n",
    "                dx[j] -= L\n",
    "            end\n",
    "            \n",
    "            mc[j] = floor(Int, dx[j]/L*M)\n",
    "            \n",
    "            if mc[j] < 0\n",
    "                mc[j] = 0\n",
    "            elseif mc[j] >= M\n",
    "                mc[j] = M-1\n",
    "            end\n",
    "        end\n",
    "        \n",
    "        for mci[1] in (mc[1]-1):(mc[1]+1), # (loop 3) Loop over 27 neighboring cells\n",
    "            mci[2] in (mc[2]-1):(mc[2]+1),\n",
    "            mci[3] in (mc[3]-1):(mc[3]+1)\n",
    "\n",
    "            for j in 1:dim # Ensure that 0 <= mci <= M-1\n",
    "                if mci[j] < 0\n",
    "                    mci[j] = 0\n",
    "                elseif mci[j] >= M\n",
    "                    mci[j] = M-1\n",
    "                end\n",
    "            end\n",
    "            c = 1 + mci[1] + mci[2]*M + mci[3]*M^2\n",
    "            j = head[c]\n",
    "\n",
    "            while j != 0 # Check neighbors\n",
    "                if i < j # Don't count double pairs\n",
    "                    dr = X.q[:,i] - X.q[:,j]\n",
    "                    r = distPBC(dr)\n",
    "                    ff = LJ_force(r) # returns ff = 0 if r > rc \n",
    "                    X.f[:,i] += ff*r\n",
    "                    X.f[:,j] -= ff*r\n",
    "                end\n",
    "                j = list[j]\n",
    "            end\n",
    "        end\n",
    "    end\n",
    "   \n",
    "    return X.f\n",
    "end"
   ]
  },
  {
   "cell_type": "markdown",
   "metadata": {},
   "source": [
    "Applies PBC on the distance before computing the force:"
   ]
  },
  {
   "cell_type": "code",
   "execution_count": null,
   "metadata": {},
   "outputs": [],
   "source": [
    "function distPBC(dr)\n",
    "    for i in 1:dim\n",
    "        if dr[i] > L/2 \n",
    "            dr[i] -= L\n",
    "        elseif dr[i] <= -L/2\n",
    "            dr[i] += L\n",
    "        end\n",
    "    end\n",
    "    \n",
    "    return dr\n",
    "end"
   ]
  },
  {
   "cell_type": "markdown",
   "metadata": {},
   "source": [
    "Applies PBC to remap particles that have left the box:"
   ]
  },
  {
   "cell_type": "code",
   "execution_count": null,
   "metadata": {},
   "outputs": [],
   "source": [
    "function PBC(q) # position between -L/2 and L/2\n",
    "    for i in nPart\n",
    "        for j in 1:dim\n",
    "            if q[j,i] < -L/2 \n",
    "                q[j,i] += L\n",
    "            elseif q[j,i] >= L/2 \n",
    "                q[j,i] -= L\n",
    "            end\n",
    "        end\n",
    "    end\n",
    "    \n",
    "    return q\n",
    "end\n"
   ]
  },
  {
   "cell_type": "markdown",
   "metadata": {},
   "source": [
    "Euler-Maruyama to integrate over Nsteps:"
   ]
  },
  {
   "cell_type": "code",
   "execution_count": null,
   "metadata": {},
   "outputs": [],
   "source": [
    "function EM(R::Int, dW::Array{Float64,2}, X::particle)\n",
    "    h = R*dt\n",
    "    Nsteps = trunc(Int, N/R)\n",
    "\n",
    "    for i = 1:Nsteps\n",
    "        Winc = _addnoise(R, dW, i)\n",
    "        X.q +=  h*X.p\n",
    "        X.p +=  h*X.f - γ*X.p*h + sqrt(2*γ/β)*Winc\n",
    "        \n",
    "        X.q = PBC(X.q)\n",
    "        X.f = compute_force(X)\n",
    "    end\n",
    "    \n",
    "    return X.q[1,1]\n",
    "end"
   ]
  }
 ],
 "metadata": {
  "@webio": {
   "lastCommId": "758d8acd63d14f9d97e33bdd07590121",
   "lastKernelId": "948e1a95-8188-4274-a0e8-d014bdca88eb"
  },
  "kernelspec": {
   "display_name": "Julia 1.0.2",
   "language": "julia",
   "name": "julia-1.0"
  },
  "language_info": {
   "file_extension": ".jl",
   "mimetype": "application/julia",
   "name": "julia",
   "version": "1.0.2"
  }
 },
 "nbformat": 4,
 "nbformat_minor": 2
}
