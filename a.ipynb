{
 "cells": [
  {
   "cell_type": "code",
   "execution_count": null,
   "metadata": {},
   "outputs": [],
   "source": [
    "a\n",
    "a\n",
    "a"
   ]
  }
 ],
 "metadata": {
  "@webio": {
   "lastCommId": "cdcc909ff88f4511a116fd3a31996c5d",
   "lastKernelId": "97c22087-5a29-41f8-a25e-0fcaffd4dfd3"
  },
  "kernelspec": {
   "display_name": "Julia 1.0.2",
   "language": "julia",
   "name": "julia-1.0"
  },
  "language_info": {
   "file_extension": ".jl",
   "mimetype": "application/julia",
   "name": "julia",
   "version": "1.0.2"
  }
 },
 "nbformat": 4,
 "nbformat_minor": 2
}
